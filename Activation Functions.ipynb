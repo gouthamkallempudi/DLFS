{
 "cells": [
  {
   "cell_type": "code",
   "execution_count": 2,
   "id": "92610080",
   "metadata": {},
   "outputs": [],
   "source": [
    "# Activation Functions\n",
    "\n",
    "# They apply a non Linear transforamtion and decide whether a neuran should be activated or not"
   ]
  },
  {
   "cell_type": "code",
   "execution_count": 4,
   "id": "0f5a1243",
   "metadata": {},
   "outputs": [],
   "source": [
    "# popular functions\n",
    "\n",
    "#1. step function\n",
    "#2. Sigmoid            -- typically for last layers of binary classification  [0-1]\n",
    "#3. TanH               -- For Hidden Layers                                   [-1,1]\n",
    "#4. ReLU               -- max(0,x), for hidden layers \n",
    "#5. Leaky ReLU         -- To solve vanishing gradient problem -- slight modification of Relu , when weights are not getting updated during trining\n",
    "#6. Softmax            -- For multiclass classification"
   ]
  },
  {
   "cell_type": "code",
   "execution_count": 7,
   "id": "fd5fbbd0",
   "metadata": {},
   "outputs": [],
   "source": [
    "# Two ways to use activation functions\n",
    "# option -1 ( Create an nn module)\n",
    "\n",
    "import torch\n",
    "import torch.nn as nn\n",
    "# use torch.functional for some more activations\n",
    "\n",
    "class NeuralNet(nn.Module):\n",
    "    def __init__(self, input_size, hidden_size):\n",
    "        super(NeuralNet, self).__init__()\n",
    "        self.linear1 = nn.Linear(input_size , hidden_size)\n",
    "        self.relu = nn.ReLU()\n",
    "        self.linear2 = nn.Linear(hidden_size , 1)\n",
    "        self.sigmoid = nn.Sigmoid()\n",
    "        \n",
    "    def forward(self, x):\n",
    "        out = self.linear1(x)\n",
    "        out = self.relu(out)\n",
    "        out = self.linear2(out)\n",
    "        out = self.sigmoid(out)\n",
    "        return out"
   ]
  },
  {
   "cell_type": "code",
   "execution_count": 6,
   "id": "5c739263",
   "metadata": {},
   "outputs": [],
   "source": [
    "# option -2 (use activation functions directly in forward pass)\n",
    "\n",
    "class NeuralNet1(nn.Module):\n",
    "    def __init__(self, input_size, hidden_size):\n",
    "        super(NeuralNet1, self).__init__()\n",
    "        self.linear1 = nn.Linear(input_size , hidden_size)\n",
    "        self.linear2 = nn.Linear(hidden_size , 1)\n",
    "        \n",
    "    def forward(self, x):\n",
    "        out = torch.relu(self.linear1(x))\n",
    "        out = torch.sigmoid(self.linear2(out))\n",
    "        return out\n",
    "        "
   ]
  }
 ],
 "metadata": {
  "kernelspec": {
   "display_name": "Python 3 (ipykernel)",
   "language": "python",
   "name": "python3"
  },
  "language_info": {
   "codemirror_mode": {
    "name": "ipython",
    "version": 3
   },
   "file_extension": ".py",
   "mimetype": "text/x-python",
   "name": "python",
   "nbconvert_exporter": "python",
   "pygments_lexer": "ipython3",
   "version": "3.7.11"
  }
 },
 "nbformat": 4,
 "nbformat_minor": 5
}
