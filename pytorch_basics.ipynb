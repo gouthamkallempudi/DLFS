{
 "cells": [
  {
   "cell_type": "code",
   "execution_count": 4,
   "id": "a935fe81",
   "metadata": {},
   "outputs": [],
   "source": [
    "import torch\n",
    "import numpy as np"
   ]
  },
  {
   "cell_type": "code",
   "execution_count": 5,
   "id": "3453b617",
   "metadata": {},
   "outputs": [
    {
     "name": "stdout",
     "output_type": "stream",
     "text": [
      "tensor([[1, 1],\n",
      "        [1, 1]], dtype=torch.int32)\n",
      "torch.Size([3, 2, 5])\n",
      "torch.float32\n"
     ]
    }
   ],
   "source": [
    "x = torch.rand(3,2,5)   # random tensor\n",
    "y = torch.ones(2,2, dtype = torch.int)\n",
    "z = torch.empty(3,5)\n",
    "p = torch.empty(1)\n",
    "print(y)\n",
    "print(x.size())\n",
    "print(x.dtype)"
   ]
  },
  {
   "cell_type": "code",
   "execution_count": 6,
   "id": "40ca5777",
   "metadata": {},
   "outputs": [
    {
     "name": "stdout",
     "output_type": "stream",
     "text": [
      "tensor([2.5000, 3.0000])\n",
      "torch.float32\n"
     ]
    }
   ],
   "source": [
    "l = torch.tensor([2.5 , 3]) # from python list\n",
    "print(l)\n",
    "print(l.dtype)"
   ]
  },
  {
   "cell_type": "code",
   "execution_count": 7,
   "id": "8ff26fe5",
   "metadata": {},
   "outputs": [
    {
     "name": "stdout",
     "output_type": "stream",
     "text": [
      "tensor([[1.1980, 0.9021],\n",
      "        [1.3565, 0.9137]])\n",
      "tensor([[1.1980, 0.9021],\n",
      "        [1.3565, 0.9137]])\n"
     ]
    }
   ],
   "source": [
    "# Basic operations\n",
    "y = torch.rand(2,2)\n",
    "x = torch.rand(2,2)\n",
    "z = x + y  # x = torch.add(), torch.sub(), torch.mul(), torch.div()\n",
    "print(z)\n",
    "\n",
    "# inplace addition\n",
    "y.add_(x)   # any function having trailing underscore will do inplace operation ex sub_, mul_ etc\n",
    "print(y)"
   ]
  },
  {
   "cell_type": "code",
   "execution_count": 8,
   "id": "c86ad26f",
   "metadata": {},
   "outputs": [
    {
     "name": "stdout",
     "output_type": "stream",
     "text": [
      "tensor([[0.0154, 0.9681, 0.9832],\n",
      "        [0.2145, 0.7299, 0.9806],\n",
      "        [0.6615, 0.1212, 0.7615],\n",
      "        [0.4675, 0.7411, 0.3059],\n",
      "        [0.5748, 0.5364, 0.9504]])\n",
      "tensor([0.0154, 0.2145, 0.6615, 0.4675, 0.5748])\n",
      "tensor([0.2145, 0.7299, 0.9806])\n",
      "tensor(0.7299)\n",
      "0.7299352884292603\n"
     ]
    }
   ],
   "source": [
    "# slicing\n",
    "\n",
    "x = torch.rand(5,3)\n",
    "print(x)\n",
    "print(x[: , 0])   # all rows and column zero\n",
    "print(x[1 , :])   # all columns and one row\n",
    "print(x[1,1])    # one element in tensor\n",
    "\n",
    "print(x[1,1].item())  # one element"
   ]
  },
  {
   "cell_type": "code",
   "execution_count": 9,
   "id": "c27d8c05",
   "metadata": {},
   "outputs": [
    {
     "name": "stdout",
     "output_type": "stream",
     "text": [
      "tensor([[0.7372, 0.6610, 0.3410, 0.6119],\n",
      "        [0.7034, 0.2622, 0.6907, 0.3836],\n",
      "        [0.4720, 0.7037, 0.9104, 0.8861],\n",
      "        [0.2167, 0.7613, 0.0472, 0.8245]])\n",
      "tensor([0.7372, 0.6610, 0.3410, 0.6119, 0.7034, 0.2622, 0.6907, 0.3836, 0.4720,\n",
      "        0.7037, 0.9104, 0.8861, 0.2167, 0.7613, 0.0472, 0.8245])\n",
      "torch.Size([2, 8])\n",
      "torch.Size([8, 2])\n"
     ]
    }
   ],
   "source": [
    "# reshaping\n",
    "x = torch.rand(4,4)\n",
    "print(x)\n",
    "y = x.view(16)  # 1-d tesor  (remember the number of elements should be same)\n",
    "print(y)\n",
    "\n",
    "c= x.view(-1, 8)\n",
    "print(c.size())\n",
    "\n",
    "r = x.view(8,-1)\n",
    "print(r.size())"
   ]
  },
  {
   "cell_type": "code",
   "execution_count": 10,
   "id": "c54c6ec3",
   "metadata": {},
   "outputs": [
    {
     "name": "stdout",
     "output_type": "stream",
     "text": [
      "tensor([1., 1., 1., 1., 1.])\n",
      "[1. 1. 1. 1. 1.]\n",
      "<class 'numpy.ndarray'>\n",
      "tensor([2., 2., 2., 2., 2.])\n",
      "[2. 2. 2. 2. 2.]\n",
      "<class 'torch.Tensor'>\n"
     ]
    }
   ],
   "source": [
    "# from numpy to torch and vice - versa\n",
    "a = torch.ones(5)\n",
    "print(a)\n",
    "b= a.numpy()                     \n",
    "print(b)\n",
    "print(type(b))\n",
    "\n",
    "\n",
    "# both share same memory if they are in cpu\n",
    "\n",
    "a.add_(1)\n",
    "print(a)\n",
    "print(b)\n",
    "\n",
    "a = np.ones(5)\n",
    "b = torch.from_numpy(a)      # both share same memory if they are in cpu\n",
    "print(type(b))"
   ]
  },
  {
   "cell_type": "code",
   "execution_count": 11,
   "id": "575e65f0",
   "metadata": {},
   "outputs": [
    {
     "name": "stdout",
     "output_type": "stream",
     "text": [
      "tensor([-0.1111, -0.2704, -0.9136], requires_grad=True)\n",
      "tensor([1.8889, 1.7296, 1.0864], grad_fn=<AddBackward0>)\n",
      "tensor([7.1361, 5.9832, 2.3604], grad_fn=<MulBackward0>)\n",
      "tensor(5.1599, grad_fn=<MeanBackward0>)\n",
      "tensor([2.5186, 2.3062, 1.4485])\n"
     ]
    }
   ],
   "source": [
    "# Gradients using  Auto-grad package\n",
    "\n",
    "x = torch.randn(3, requires_grad = True)   # requires_grad is required to find grds in future with respect to x\n",
    "print(x)\n",
    "\n",
    "\n",
    "# Forward Pass\n",
    "\n",
    "y = x + 2     # creates a computational graph\n",
    "print(y)\n",
    "\n",
    "z = y * y * 2\n",
    "print(z)\n",
    "z = z.mean()\n",
    "print(z)\n",
    "\n",
    "\n",
    "# To find gradients\n",
    "z.backward()              #   dz/dx\n",
    "print(x.grad)             # z = (2(x11 + 2)** 2 + 2(x12 + 2**2) + 2(x13 + 2)**2) * 3\n"
   ]
  },
  {
   "cell_type": "code",
   "execution_count": 12,
   "id": "53495ad5",
   "metadata": {},
   "outputs": [
    {
     "name": "stdout",
     "output_type": "stream",
     "text": [
      "tensor([ 0.3267, -0.9548,  0.4427], requires_grad=True)\n",
      "tensor([ 0.3267, -0.9548,  0.4427])\n"
     ]
    }
   ],
   "source": [
    "x = torch.randn(3 , requires_grad = True)\n",
    "print(x)\n",
    "x.requires_grad_(False)\n",
    "print(x)\n",
    "\n",
    "# other option include\n",
    "# x.detach()  --- not inplace\n",
    "# with torch.no_grad():"
   ]
  },
  {
   "cell_type": "code",
   "execution_count": 13,
   "id": "8ba93d68",
   "metadata": {},
   "outputs": [
    {
     "name": "stdout",
     "output_type": "stream",
     "text": [
      "tensor([3., 3., 3., 3.])\n",
      "tensor([3., 3., 3., 3.])\n",
      "tensor([3., 3., 3., 3.])\n",
      "tensor([3., 3., 3., 3.])\n"
     ]
    }
   ],
   "source": [
    "# Example of forward pass\n",
    "\n",
    "weights = torch.ones(4, requires_grad = True)\n",
    "\n",
    "for epoch in range(4):\n",
    "    model_output = (weights * 3).sum()\n",
    "    model_output.backward()                     # ccomputes dm/dw\n",
    "    print(weights.grad)\n",
    "    weights.grad.zero_()                        # imp step need to make gradients zero"
   ]
  },
  {
   "cell_type": "code",
   "execution_count": 14,
   "id": "028b522d",
   "metadata": {},
   "outputs": [],
   "source": [
    "#  backward propagation\n",
    "\n",
    "\n",
    "# step 1 --  Forward Pass : Compute Loss\n",
    "# step 2 --  Compute LOcal gradients at each node\n",
    "# step 3 --  Backward PAss : Compute dLoss/ dWeights using chain rule"
   ]
  },
  {
   "cell_type": "code",
   "execution_count": 15,
   "id": "49eee35b",
   "metadata": {},
   "outputs": [
    {
     "name": "stdout",
     "output_type": "stream",
     "text": [
      "tensor(1., grad_fn=<PowBackward0>)\n",
      "tensor(-2.)\n"
     ]
    }
   ],
   "source": [
    "# Example\n",
    "\n",
    "x = torch.tensor(1.0)\n",
    "y = torch.tensor(2.0)\n",
    "\n",
    "w = torch.tensor(1.0, requires_grad = True)\n",
    "\n",
    "# forward pass\n",
    "\n",
    "y_hat = (w * x)\n",
    "loss = (y_hat - y)**2\n",
    "\n",
    "print(loss)\n",
    "\n",
    "# backward\n",
    "loss.backward()\n",
    "print(w.grad)                    # if possible try on a paper"
   ]
  },
  {
   "cell_type": "code",
   "execution_count": 16,
   "id": "dee12d39",
   "metadata": {},
   "outputs": [],
   "source": [
    "# Linear Regression using Autograd\n",
    "\n",
    "# step -1\n",
    "\n",
    "# Prediction -- Manual\n",
    "# Gradient Computation - Manual\n",
    "# Loss COmputation -MAnual\n",
    "# Parameter updates : Manual\n",
    "\n"
   ]
  },
  {
   "cell_type": "code",
   "execution_count": 17,
   "id": "e681f5b8",
   "metadata": {},
   "outputs": [
    {
     "name": "stdout",
     "output_type": "stream",
     "text": [
      "prediction before training : f(5) = 0.000\n",
      "epoch 1: w = 1.200 , loss =30.00000000\n",
      "epoch 3: w = 1.872 , loss =0.76800019\n",
      "epoch 5: w = 1.980 , loss =0.01966083\n",
      "epoch 7: w = 1.997 , loss =0.00050332\n",
      "epoch 9: w = 1.999 , loss =0.00001288\n",
      "epoch 11: w = 2.000 , loss =0.00000033\n",
      "epoch 13: w = 2.000 , loss =0.00000001\n",
      "epoch 15: w = 2.000 , loss =0.00000000\n",
      "epoch 17: w = 2.000 , loss =0.00000000\n",
      "epoch 19: w = 2.000 , loss =0.00000000\n",
      "prediction after training : f(5) = 10.000\n"
     ]
    }
   ],
   "source": [
    "# Step-1 witout the library\n",
    "\n",
    "\n",
    "X = np.array([1,2,3,4], dtype = np.float32)\n",
    "Y = np.array([2,4,6,8], dtype = np.float32)\n",
    "\n",
    "w = 0.0\n",
    "\n",
    "# model prediction\n",
    "\n",
    "def forward(x):\n",
    "    return w * x\n",
    "\n",
    "#loss = MSE\n",
    "\n",
    "def loss(y, y_pred):\n",
    "    return ((y_pred - y)**2).mean()\n",
    "    \n",
    "#gradient\n",
    "# MSE =  1 /N * (w*x - y)**2\n",
    "# dj/dw = 1/N * (2x) * (w*x - y)\n",
    "\n",
    "def gradient(x,y, y_pred):\n",
    "    return np.dot(2*x , y_pred-y).mean()\n",
    "\n",
    "print(f'prediction before training : f(5) = {forward(5):.3f}')\n",
    "\n",
    "# TRaining \n",
    "learning_rate = 0.01\n",
    "n_iters = 20\n",
    "\n",
    "for epoch in range(n_iters):\n",
    "    # prediction\n",
    "    y_pred = forward(X)\n",
    "    \n",
    "    #loss \n",
    "    l = loss(Y, y_pred)\n",
    "    \n",
    "    # gradients\n",
    "    dw = gradient(X,Y,y_pred)\n",
    "    \n",
    "    #update weights\n",
    "    w -= learning_rate * dw\n",
    "    \n",
    "    if epoch % 2 == 0:\n",
    "        print(f'epoch {epoch+1}: w = {w:.3f} , loss ={l:.8f}')\n",
    "\n",
    "        \n",
    "print(f'prediction after training : f(5) = {forward(5):.3f}')"
   ]
  },
  {
   "cell_type": "code",
   "execution_count": 18,
   "id": "28307728",
   "metadata": {},
   "outputs": [],
   "source": [
    "# Step -2\n",
    "\n",
    "# Prediction -- Manual\n",
    "# Gradient Computation - Auto GRad\n",
    "# Loss COmputation -MAnual\n",
    "# Parameter updates : Manual\n"
   ]
  },
  {
   "cell_type": "code",
   "execution_count": 19,
   "id": "5b533ca3",
   "metadata": {},
   "outputs": [
    {
     "name": "stdout",
     "output_type": "stream",
     "text": [
      "prediction before training : f(5) = 0.000\n",
      "epoch 1: w = 0.300 , loss =30.00000000\n",
      "epoch 11: w = 1.665 , loss =1.16278565\n",
      "epoch 21: w = 1.934 , loss =0.04506890\n",
      "epoch 31: w = 1.987 , loss =0.00174685\n",
      "epoch 41: w = 1.997 , loss =0.00006770\n",
      "epoch 51: w = 1.999 , loss =0.00000262\n",
      "epoch 61: w = 2.000 , loss =0.00000010\n",
      "epoch 71: w = 2.000 , loss =0.00000000\n",
      "epoch 81: w = 2.000 , loss =0.00000000\n",
      "epoch 91: w = 2.000 , loss =0.00000000\n",
      "prediction after training : f(5) = 10.000\n"
     ]
    }
   ],
   "source": [
    "# step -- 2 using autograd\n",
    "\n",
    "X = torch.tensor([1,2,3,4], dtype = torch.float32)\n",
    "Y = torch.tensor([2,4,6,8], dtype = torch.float32)\n",
    "\n",
    "w = torch.tensor(0.0, dtype = torch.float32, requires_grad = True)\n",
    "\n",
    "# model prediction\n",
    "\n",
    "def forward(x):\n",
    "    return w * x\n",
    "\n",
    "#loss = MSE\n",
    "\n",
    "def loss(y, y_pred):\n",
    "    return ((y_pred - y)**2).mean()\n",
    "    \n",
    "\n",
    "print(f'prediction before training : f(5) = {forward(5):.3f}')\n",
    "\n",
    "# TRaining \n",
    "learning_rate = 0.01\n",
    "n_iters = 100\n",
    "\n",
    "for epoch in range(n_iters):\n",
    "    # prediction\n",
    "    y_pred = forward(X)\n",
    "    \n",
    "    #loss \n",
    "    l = loss(Y, y_pred)\n",
    "    \n",
    "    # gradients = backward pass\n",
    "    l.backward()    # dl/dw\n",
    "   \n",
    "    \n",
    "    #update weights\n",
    "    with torch.no_grad():\n",
    "          w -= learning_rate * w.grad\n",
    "  \n",
    "    # zero gradients\n",
    "    w.grad.zero_()\n",
    "    \n",
    "    if epoch % 10 == 0:\n",
    "        print(f'epoch {epoch+1}: w = {w:.3f} , loss ={l:.8f}')\n",
    "\n",
    "        \n",
    "print(f'prediction after training : f(5) = {forward(5):.3f}')\n"
   ]
  },
  {
   "cell_type": "code",
   "execution_count": 20,
   "id": "5bf2898e",
   "metadata": {},
   "outputs": [],
   "source": [
    "# Step -3\n",
    "\n",
    "# Prediction -- Manual\n",
    "# Gradient Computation - Auto GRad\n",
    "# Loss COmputation - Pytorch Loss\n",
    "# Parameter updates : Pytorch Optimizer"
   ]
  },
  {
   "cell_type": "code",
   "execution_count": 21,
   "id": "4442e170",
   "metadata": {},
   "outputs": [],
   "source": [
    "# 1) Design MOdel (input,output, forward Pass)\n",
    "# 2) Construct Loss and Optimizer\n",
    "# 3) Training loop\n",
    "#    - forward pass : computer prediction\n",
    "#    - backward pass : gradients\n",
    "#    - update weights"
   ]
  },
  {
   "cell_type": "code",
   "execution_count": 22,
   "id": "8bab3898",
   "metadata": {},
   "outputs": [
    {
     "name": "stdout",
     "output_type": "stream",
     "text": [
      "prediction before training : f(5) = 0.000\n",
      "epoch 1: w = 0.300 , loss =30.00000000\n",
      "epoch 11: w = 1.665 , loss =1.16278565\n",
      "epoch 21: w = 1.934 , loss =0.04506890\n",
      "epoch 31: w = 1.987 , loss =0.00174685\n",
      "epoch 41: w = 1.997 , loss =0.00006770\n",
      "epoch 51: w = 1.999 , loss =0.00000262\n",
      "epoch 61: w = 2.000 , loss =0.00000010\n",
      "epoch 71: w = 2.000 , loss =0.00000000\n",
      "epoch 81: w = 2.000 , loss =0.00000000\n",
      "epoch 91: w = 2.000 , loss =0.00000000\n",
      "prediction after training : f(5) = 10.000\n"
     ]
    }
   ],
   "source": [
    "import torch.nn as nn\n",
    "\n",
    "X = torch.tensor([1,2,3,4], dtype = torch.float32)\n",
    "Y = torch.tensor([2,4,6,8], dtype = torch.float32)\n",
    "\n",
    "w = torch.tensor(0.0, dtype = torch.float32, requires_grad = True)\n",
    "\n",
    "# model prediction\n",
    "\n",
    "def forward(x):\n",
    "    return w * x\n",
    "\n",
    "\n",
    "print(f'prediction before training : f(5) = {forward(5):.3f}')\n",
    "\n",
    "# TRaining \n",
    "learning_rate = 0.01\n",
    "n_iters = 100\n",
    "\n",
    "loss = nn.MSELoss()\n",
    "optimizer = torch.optim.SGD([w] , lr = learning_rate)\n",
    "\n",
    "for epoch in range(n_iters):\n",
    "    # prediction\n",
    "    y_pred = forward(X)\n",
    "    \n",
    "    #loss \n",
    "    l = loss(Y, y_pred)\n",
    "    \n",
    "    # gradients = backward pass\n",
    "    l.backward()    # dl/dw\n",
    "   \n",
    "    \n",
    "    #update weights\n",
    "    optimizer.step()\n",
    "  \n",
    "    # zero gradients\n",
    "    optimizer.zero_grad()\n",
    "    \n",
    "    if epoch % 10 == 0:\n",
    "        print(f'epoch {epoch+1}: w = {w:.3f} , loss ={l:.8f}')\n",
    "\n",
    "        \n",
    "print(f'prediction after training : f(5) = {forward(5):.3f}')\n"
   ]
  },
  {
   "cell_type": "code",
   "execution_count": 23,
   "id": "b7b8d9e4",
   "metadata": {},
   "outputs": [],
   "source": [
    "# Step -4\n",
    "\n",
    "# Prediction -- Pytorch Model\n",
    "# Gradient Computation - Auto GRad\n",
    "# Loss COmputation - Pytorch Loss\n",
    "# Parameter updates : Pytorch Optimizer"
   ]
  },
  {
   "cell_type": "code",
   "execution_count": 25,
   "id": "934341b7",
   "metadata": {},
   "outputs": [
    {
     "name": "stdout",
     "output_type": "stream",
     "text": [
      "prediction before training : f(5) = -2.244\n",
      "epoch 1: w = -0.235 , loss =41.70269775\n",
      "epoch 11: w = 1.252 , loss =1.38504314\n",
      "epoch 21: w = 1.503 , loss =0.32411256\n",
      "epoch 31: w = 1.554 , loss =0.27988422\n",
      "epoch 41: w = 1.573 , loss =0.26293749\n",
      "epoch 51: w = 1.587 , loss =0.24761605\n",
      "epoch 61: w = 1.599 , loss =0.23320317\n",
      "epoch 71: w = 1.611 , loss =0.21962936\n",
      "epoch 81: w = 1.623 , loss =0.20684572\n",
      "epoch 91: w = 1.634 , loss =0.19480634\n",
      "prediction after training : f(5) = 9.266\n"
     ]
    }
   ],
   "source": [
    "import torch.nn as nn\n",
    "\n",
    "X = torch.tensor([[1],[2],[3],[4]], dtype = torch.float32)       # shape changes\n",
    "Y = torch.tensor([[2],[4],[6],[8]], dtype = torch.float32)\n",
    "\n",
    "x_test = torch.tensor([5], dtype = torch.float32)\n",
    "\n",
    "n_samples, n_features = X.shape\n",
    "input_size = n_features\n",
    "output_size = n_features\n",
    "\n",
    "model = nn.Linear(input_size, output_size)\n",
    "\n",
    "\n",
    "print(f'prediction before training : f(5) = {model(x_test).item():.3f}')\n",
    "\n",
    "# TRaining \n",
    "learning_rate = 0.01\n",
    "n_iters = 100\n",
    "\n",
    "loss = nn.MSELoss()\n",
    "optimizer = torch.optim.SGD(model.parameters() , lr = learning_rate)\n",
    "\n",
    "for epoch in range(n_iters):\n",
    "    # prediction\n",
    "    y_pred = model(X)\n",
    "    \n",
    "    #loss \n",
    "    l = loss(Y, y_pred)\n",
    "    \n",
    "    # gradients = backward pass\n",
    "    l.backward()    # dl/dw\n",
    "   \n",
    "    \n",
    "    #update weights\n",
    "    optimizer.step()\n",
    "  \n",
    "    # zero gradients\n",
    "    optimizer.zero_grad()\n",
    "    \n",
    "    if epoch % 10 == 0:\n",
    "        [w, b] = model.parameters()\n",
    "        print(f'epoch {epoch+1}: w = {w[0][0].item():.3f} , loss ={l:.8f}')\n",
    "\n",
    "        \n",
    "print(f'prediction after training : f(5) = {model(x_test).item():.3f}')\n"
   ]
  },
  {
   "cell_type": "code",
   "execution_count": null,
   "id": "25c78042",
   "metadata": {},
   "outputs": [],
   "source": []
  },
  {
   "cell_type": "code",
   "execution_count": null,
   "id": "646ee872",
   "metadata": {},
   "outputs": [],
   "source": []
  },
  {
   "cell_type": "code",
   "execution_count": null,
   "id": "7e1ff3ac",
   "metadata": {},
   "outputs": [],
   "source": []
  },
  {
   "cell_type": "code",
   "execution_count": null,
   "id": "747aa4a8",
   "metadata": {},
   "outputs": [],
   "source": []
  },
  {
   "cell_type": "code",
   "execution_count": null,
   "id": "1de5c420",
   "metadata": {},
   "outputs": [],
   "source": []
  },
  {
   "cell_type": "code",
   "execution_count": null,
   "id": "5ca30052",
   "metadata": {},
   "outputs": [],
   "source": []
  },
  {
   "cell_type": "code",
   "execution_count": null,
   "id": "3cc6c3f3",
   "metadata": {},
   "outputs": [],
   "source": []
  },
  {
   "cell_type": "code",
   "execution_count": null,
   "id": "0e38ddaa",
   "metadata": {},
   "outputs": [],
   "source": []
  },
  {
   "cell_type": "code",
   "execution_count": null,
   "id": "94d69640",
   "metadata": {},
   "outputs": [],
   "source": []
  },
  {
   "cell_type": "code",
   "execution_count": null,
   "id": "4e02fc43",
   "metadata": {},
   "outputs": [],
   "source": []
  },
  {
   "cell_type": "code",
   "execution_count": null,
   "id": "05475976",
   "metadata": {},
   "outputs": [],
   "source": []
  },
  {
   "cell_type": "code",
   "execution_count": null,
   "id": "fd4376c6",
   "metadata": {},
   "outputs": [],
   "source": []
  },
  {
   "cell_type": "code",
   "execution_count": null,
   "id": "e8238669",
   "metadata": {},
   "outputs": [],
   "source": []
  },
  {
   "cell_type": "code",
   "execution_count": null,
   "id": "da27e962",
   "metadata": {},
   "outputs": [],
   "source": []
  },
  {
   "cell_type": "code",
   "execution_count": null,
   "id": "65471822",
   "metadata": {},
   "outputs": [],
   "source": []
  },
  {
   "cell_type": "code",
   "execution_count": null,
   "id": "e0145819",
   "metadata": {},
   "outputs": [],
   "source": []
  },
  {
   "cell_type": "code",
   "execution_count": null,
   "id": "2941edc1",
   "metadata": {},
   "outputs": [],
   "source": []
  },
  {
   "cell_type": "code",
   "execution_count": null,
   "id": "ce15527c",
   "metadata": {},
   "outputs": [],
   "source": []
  },
  {
   "cell_type": "code",
   "execution_count": null,
   "id": "52f2dd6b",
   "metadata": {},
   "outputs": [],
   "source": []
  },
  {
   "cell_type": "code",
   "execution_count": null,
   "id": "bec3dcee",
   "metadata": {},
   "outputs": [],
   "source": []
  },
  {
   "cell_type": "code",
   "execution_count": null,
   "id": "e9a8918f",
   "metadata": {},
   "outputs": [],
   "source": []
  },
  {
   "cell_type": "code",
   "execution_count": null,
   "id": "399e38e9",
   "metadata": {},
   "outputs": [],
   "source": []
  },
  {
   "cell_type": "code",
   "execution_count": null,
   "id": "95e921e9",
   "metadata": {},
   "outputs": [],
   "source": []
  },
  {
   "cell_type": "code",
   "execution_count": null,
   "id": "1782a004",
   "metadata": {},
   "outputs": [],
   "source": []
  },
  {
   "cell_type": "code",
   "execution_count": null,
   "id": "400a984f",
   "metadata": {},
   "outputs": [],
   "source": []
  },
  {
   "cell_type": "code",
   "execution_count": null,
   "id": "426e772b",
   "metadata": {},
   "outputs": [],
   "source": []
  },
  {
   "cell_type": "code",
   "execution_count": null,
   "id": "5f968b3a",
   "metadata": {},
   "outputs": [],
   "source": []
  },
  {
   "cell_type": "code",
   "execution_count": null,
   "id": "86acba2d",
   "metadata": {},
   "outputs": [],
   "source": []
  },
  {
   "cell_type": "code",
   "execution_count": null,
   "id": "92beca16",
   "metadata": {},
   "outputs": [],
   "source": []
  },
  {
   "cell_type": "code",
   "execution_count": null,
   "id": "2d161f97",
   "metadata": {},
   "outputs": [],
   "source": []
  },
  {
   "cell_type": "code",
   "execution_count": null,
   "id": "8641f073",
   "metadata": {},
   "outputs": [],
   "source": []
  },
  {
   "cell_type": "code",
   "execution_count": null,
   "id": "fe47ef93",
   "metadata": {},
   "outputs": [],
   "source": []
  },
  {
   "cell_type": "code",
   "execution_count": null,
   "id": "a5eabc47",
   "metadata": {},
   "outputs": [],
   "source": []
  },
  {
   "cell_type": "code",
   "execution_count": null,
   "id": "5b1b68a0",
   "metadata": {},
   "outputs": [],
   "source": []
  },
  {
   "cell_type": "code",
   "execution_count": null,
   "id": "776ab5a2",
   "metadata": {},
   "outputs": [],
   "source": []
  },
  {
   "cell_type": "code",
   "execution_count": null,
   "id": "2541073d",
   "metadata": {},
   "outputs": [],
   "source": []
  },
  {
   "cell_type": "code",
   "execution_count": null,
   "id": "cf7c206a",
   "metadata": {},
   "outputs": [],
   "source": []
  },
  {
   "cell_type": "code",
   "execution_count": null,
   "id": "526f1dd7",
   "metadata": {},
   "outputs": [],
   "source": []
  }
 ],
 "metadata": {
  "kernelspec": {
   "display_name": "Python 3 (ipykernel)",
   "language": "python",
   "name": "python3"
  },
  "language_info": {
   "codemirror_mode": {
    "name": "ipython",
    "version": 3
   },
   "file_extension": ".py",
   "mimetype": "text/x-python",
   "name": "python",
   "nbconvert_exporter": "python",
   "pygments_lexer": "ipython3",
   "version": "3.7.11"
  }
 },
 "nbformat": 4,
 "nbformat_minor": 5
}
