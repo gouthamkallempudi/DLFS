{
 "cells": [
  {
   "cell_type": "code",
   "execution_count": 1,
   "id": "e3818d98",
   "metadata": {},
   "outputs": [],
   "source": [
    "# Dataset and DataLoader class"
   ]
  },
  {
   "cell_type": "code",
   "execution_count": 2,
   "id": "b1092471",
   "metadata": {},
   "outputs": [
    {
     "data": {
      "text/plain": [
       "'\\nepoch = 1 means one forward and backward pass of all the training samples\\n\\nbatch_size = no of training samples in one forward and backward pass\\n\\nnumber of iterations = no of passes, each using [batch size] number of samples\\n\\neg : 100 samples, batch_size = 20 --> 100/20 = 5 iterations for 1 epoch\\n\\n'"
      ]
     },
     "execution_count": 2,
     "metadata": {},
     "output_type": "execute_result"
    }
   ],
   "source": [
    "'''\n",
    "epoch = 1 means one forward and backward pass of all the training samples\n",
    "\n",
    "batch_size = no of training samples in one forward and backward pass\n",
    "\n",
    "number of iterations = no of passes, each using [batch size] number of samples\n",
    "\n",
    "eg : 100 samples, batch_size = 20 --> 100/20 = 5 iterations for 1 epoch\n",
    "\n",
    "'''"
   ]
  },
  {
   "cell_type": "code",
   "execution_count": 3,
   "id": "a244e689",
   "metadata": {},
   "outputs": [],
   "source": [
    "import torch\n",
    "import torchvision\n",
    "from torch.utils.data import Dataset, DataLoader\n",
    "import numpy as np\n",
    "import math"
   ]
  },
  {
   "cell_type": "code",
   "execution_count": 8,
   "id": "630076da",
   "metadata": {},
   "outputs": [
    {
     "name": "stdout",
     "output_type": "stream",
     "text": [
      "tensor([1.4230e+01, 1.7100e+00, 2.4300e+00, 1.5600e+01, 1.2700e+02, 2.8000e+00,\n",
      "        3.0600e+00, 2.8000e-01, 2.2900e+00, 5.6400e+00, 1.0400e+00, 3.9200e+00,\n",
      "        1.0650e+03]) tensor([1.])\n"
     ]
    }
   ],
   "source": [
    "class WineDataset(Dataset):\n",
    "    \n",
    "    def __init__(self):\n",
    "        # dataset loading\n",
    "        xy = np.loadtxt('./data/wine.csv', delimiter = \",\" ,dtype = np.float32, skiprows = 1)\n",
    "        self.x = torch.from_numpy(xy[: , 1:])\n",
    "        self.y = torch.from_numpy(xy[: , [0]]) \n",
    "        self.n_samples = xy.shape[0]\n",
    "        \n",
    "        \n",
    "    def __getitem__(self, index):\n",
    "        # dataset [0]\n",
    "        return self.x[index], self.y[index]\n",
    "        \n",
    "    def __len__(self):\n",
    "        # len(dataset)\n",
    "        return self.n_samples\n",
    "    \n",
    "dataset = WineDataset()\n",
    "first_data = dataset[0]\n",
    "features, labels = first_data\n",
    "print(features, labels)"
   ]
  },
  {
   "cell_type": "code",
   "execution_count": 12,
   "id": "29adee19",
   "metadata": {},
   "outputs": [],
   "source": [
    "# Using DataLoader\n",
    "dataloader = DataLoader(dataset = dataset, batch_size = 4, shuffle = True)"
   ]
  },
  {
   "cell_type": "code",
   "execution_count": 13,
   "id": "0e8a93ac",
   "metadata": {},
   "outputs": [
    {
     "name": "stdout",
     "output_type": "stream",
     "text": [
      "tensor([[1.3160e+01, 3.5700e+00, 2.1500e+00, 2.1000e+01, 1.0200e+02, 1.5000e+00,\n",
      "         5.5000e-01, 4.3000e-01, 1.3000e+00, 4.0000e+00, 6.0000e-01, 1.6800e+00,\n",
      "         8.3000e+02],\n",
      "        [1.1450e+01, 2.4000e+00, 2.4200e+00, 2.0000e+01, 9.6000e+01, 2.9000e+00,\n",
      "         2.7900e+00, 3.2000e-01, 1.8300e+00, 3.2500e+00, 8.0000e-01, 3.3900e+00,\n",
      "         6.2500e+02],\n",
      "        [1.1560e+01, 2.0500e+00, 3.2300e+00, 2.8500e+01, 1.1900e+02, 3.1800e+00,\n",
      "         5.0800e+00, 4.7000e-01, 1.8700e+00, 6.0000e+00, 9.3000e-01, 3.6900e+00,\n",
      "         4.6500e+02],\n",
      "        [1.2520e+01, 2.4300e+00, 2.1700e+00, 2.1000e+01, 8.8000e+01, 2.5500e+00,\n",
      "         2.2700e+00, 2.6000e-01, 1.2200e+00, 2.0000e+00, 9.0000e-01, 2.7800e+00,\n",
      "         3.2500e+02]]) tensor([[3.],\n",
      "        [2.],\n",
      "        [2.],\n",
      "        [2.]])\n"
     ]
    }
   ],
   "source": [
    "dataiter = iter(dataloader)\n",
    "data = dataiter.next()\n",
    "features, labels = data\n",
    "print(features, labels)  # as batch size is 4 we get 4 items"
   ]
  },
  {
   "cell_type": "code",
   "execution_count": 14,
   "id": "29e61b4f",
   "metadata": {},
   "outputs": [
    {
     "name": "stdout",
     "output_type": "stream",
     "text": [
      "178 45\n"
     ]
    }
   ],
   "source": [
    "# training loop\n",
    "num_epochs = 2\n",
    "total_samples = len(dataset)\n",
    "n_iterations = math.ceil(total_samples / 4)\n",
    "\n",
    "print(total_samples, n_iterations)"
   ]
  },
  {
   "cell_type": "code",
   "execution_count": 15,
   "id": "380a795f",
   "metadata": {},
   "outputs": [
    {
     "name": "stdout",
     "output_type": "stream",
     "text": [
      "epoch 1/2, step 5/45 , inputs torch.Size([4, 13])\n",
      "epoch 1/2, step 10/45 , inputs torch.Size([4, 13])\n",
      "epoch 1/2, step 15/45 , inputs torch.Size([4, 13])\n",
      "epoch 1/2, step 20/45 , inputs torch.Size([4, 13])\n",
      "epoch 1/2, step 25/45 , inputs torch.Size([4, 13])\n",
      "epoch 1/2, step 30/45 , inputs torch.Size([4, 13])\n",
      "epoch 1/2, step 35/45 , inputs torch.Size([4, 13])\n",
      "epoch 1/2, step 40/45 , inputs torch.Size([4, 13])\n",
      "epoch 1/2, step 45/45 , inputs torch.Size([2, 13])\n",
      "epoch 2/2, step 5/45 , inputs torch.Size([4, 13])\n",
      "epoch 2/2, step 10/45 , inputs torch.Size([4, 13])\n",
      "epoch 2/2, step 15/45 , inputs torch.Size([4, 13])\n",
      "epoch 2/2, step 20/45 , inputs torch.Size([4, 13])\n",
      "epoch 2/2, step 25/45 , inputs torch.Size([4, 13])\n",
      "epoch 2/2, step 30/45 , inputs torch.Size([4, 13])\n",
      "epoch 2/2, step 35/45 , inputs torch.Size([4, 13])\n",
      "epoch 2/2, step 40/45 , inputs torch.Size([4, 13])\n",
      "epoch 2/2, step 45/45 , inputs torch.Size([2, 13])\n"
     ]
    }
   ],
   "source": [
    "for epoch in range(num_epochs):\n",
    "    for i, (inputs, labels) in enumerate(dataloader): # gives index and iput and label\n",
    "        # forward and backward # update\n",
    "        if (i+1)%5 == 0:\n",
    "            print(f'epoch {epoch + 1}/{num_epochs}, step {i+1}/{n_iterations} , inputs {inputs.shape}')"
   ]
  },
  {
   "cell_type": "code",
   "execution_count": 18,
   "id": "93f76e3c",
   "metadata": {},
   "outputs": [],
   "source": [
    "# torchvision has famous datasets"
   ]
  },
  {
   "cell_type": "code",
   "execution_count": 20,
   "id": "bf2ddbd7",
   "metadata": {},
   "outputs": [],
   "source": [
    "# Data set Transforms\n",
    "\n",
    "# there are many transforms visit torchvision.transforms documentation"
   ]
  },
  {
   "cell_type": "code",
   "execution_count": null,
   "id": "3e00a4d0",
   "metadata": {},
   "outputs": [],
   "source": [
    "class WineDataset_(Dataset):\n",
    "    \n",
    "    def __init__(self, transform):\n",
    "        # dataset loading\n",
    "        xy = np.loadtxt('./data/wine.csv', delimiter = \",\" ,dtype = np.float32, skiprows = 1)\n",
    "        self.x = torch.from_numpy(xy[: , 1:])\n",
    "        self.y = torch.from_numpy(xy[: , [0]]) \n",
    "        self.n_samples = xy.shape[0]\n",
    "        self.transform = transform\n",
    "        \n",
    "        \n",
    "    def __getitem__(self, index):\n",
    "        # dataset [0]\n",
    "        sample =  self.x[index], self.y[index]\n",
    "        \n",
    "        if self.transform:\n",
    "            sample = self.transform(sample)\n",
    "            \n",
    "        return sample    \n",
    "        \n",
    "    def __len__(self):\n",
    "        # len(dataset)\n",
    "        return self.n_samples  "
   ]
  },
  {
   "cell_type": "code",
   "execution_count": null,
   "id": "d62f26a5",
   "metadata": {},
   "outputs": [],
   "source": []
  }
 ],
 "metadata": {
  "kernelspec": {
   "display_name": "Python 3 (ipykernel)",
   "language": "python",
   "name": "python3"
  },
  "language_info": {
   "codemirror_mode": {
    "name": "ipython",
    "version": 3
   },
   "file_extension": ".py",
   "mimetype": "text/x-python",
   "name": "python",
   "nbconvert_exporter": "python",
   "pygments_lexer": "ipython3",
   "version": "3.7.11"
  }
 },
 "nbformat": 4,
 "nbformat_minor": 5
}
