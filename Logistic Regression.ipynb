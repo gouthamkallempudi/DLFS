{
 "cells": [
  {
   "cell_type": "code",
   "execution_count": 1,
   "id": "5752d807",
   "metadata": {},
   "outputs": [],
   "source": [
    "#pytorch pipeline\n",
    "\n",
    "# 1. Design Model ( input size, output size)\n",
    "# 2. Construct Loss and OPtimizer\n",
    "# 3. training the model\n",
    "#     1 --> FOrward pass : computer prediction\n",
    "#     2 --> Backward Pass : computer gradients\n",
    "#     3 --> UPdate Weights"
   ]
  },
  {
   "cell_type": "code",
   "execution_count": 2,
   "id": "76d9999a",
   "metadata": {},
   "outputs": [],
   "source": [
    "import torch\n",
    "import torch.nn as nn\n",
    "import numpy as np\n",
    "from sklearn import datasets\n",
    "from sklearn.preprocessing import StandardScaler\n",
    "from sklearn.model_selection import train_test_split\n",
    "import matplotlib.pyplot as plt"
   ]
  },
  {
   "cell_type": "code",
   "execution_count": 8,
   "id": "c12a811a",
   "metadata": {},
   "outputs": [],
   "source": [
    "# prepare data\n",
    "\n",
    "bc = datasets.load_breast_cancer()\n",
    "X,y = bc.data, bc.target\n",
    "\n",
    "n_samples, n_features = X.shape  # 569 30\n",
    "X_train, X_test, y_train, y_test = train_test_split(X, y , test_size = 0.2, random_state = 1234)\n",
    "\n",
    "# scale features\n",
    "\n",
    "sc = StandardScaler() # for zero mean\n",
    "X_train = sc.fit_transform(X_train)\n",
    "X_test  = sc.fit_transform(X_test)\n",
    "\n",
    "\n",
    "#convert them to torch tensor\n",
    "\n",
    "X_train = torch.from_numpy(X_train.astype(np.float32))\n",
    "X_test = torch.from_numpy(X_test.astype(np.float32))\n",
    "y_train = torch.from_numpy(y_train.astype(np.float32))\n",
    "y_test = torch.from_numpy(y_test.astype(np.float32))\n",
    "\n",
    "# reshape y to column tensor\n",
    "y_train = y_train.view(y_train.shape[0], 1)\n",
    "y_test = y_test.view(y_test.shape[0], 1)\n"
   ]
  },
  {
   "cell_type": "code",
   "execution_count": 9,
   "id": "5d9bf129",
   "metadata": {},
   "outputs": [],
   "source": [
    "# model\n",
    "# f = sigmoid(wx + b)\n",
    "\n",
    "class LogisticRegression(nn.Module):\n",
    "    \n",
    "    def __init__(self, n_input_features):\n",
    "        super(LogisticRegression, self).__init__()\n",
    "        self.linear = nn.Linear(n_input_features, 1)\n",
    "        \n",
    "    def forward(self, x):\n",
    "        return torch.sigmoid(self.linear(x))\n",
    "\n",
    "model = LogisticRegression(n_features)"
   ]
  },
  {
   "cell_type": "code",
   "execution_count": 10,
   "id": "29b128c0",
   "metadata": {},
   "outputs": [],
   "source": [
    "# loss and optimizer\n",
    "learning_rate = 0.01\n",
    "criterion = nn.BCELoss() # Binary cross entropy\n",
    "optimizer= torch.optim.SGD(model.parameters() , lr = learning_rate)"
   ]
  },
  {
   "cell_type": "code",
   "execution_count": 16,
   "id": "f78a04af",
   "metadata": {},
   "outputs": [
    {
     "name": "stdout",
     "output_type": "stream",
     "text": [
      "epoch : 10, loss = 0.0856\n",
      "epoch : 20, loss = 0.0853\n",
      "epoch : 30, loss = 0.0851\n",
      "epoch : 40, loss = 0.0848\n",
      "epoch : 50, loss = 0.0845\n",
      "epoch : 60, loss = 0.0842\n",
      "epoch : 70, loss = 0.0839\n",
      "epoch : 80, loss = 0.0837\n",
      "epoch : 90, loss = 0.0834\n",
      "epoch : 100, loss = 0.0831\n",
      "epoch : 110, loss = 0.0829\n",
      "epoch : 120, loss = 0.0826\n",
      "epoch : 130, loss = 0.0824\n",
      "epoch : 140, loss = 0.0821\n",
      "epoch : 150, loss = 0.0819\n",
      "epoch : 160, loss = 0.0816\n",
      "epoch : 170, loss = 0.0814\n",
      "epoch : 180, loss = 0.0811\n",
      "epoch : 190, loss = 0.0809\n",
      "epoch : 200, loss = 0.0807\n",
      "epoch : 210, loss = 0.0804\n",
      "epoch : 220, loss = 0.0802\n",
      "epoch : 230, loss = 0.0800\n",
      "epoch : 240, loss = 0.0798\n",
      "epoch : 250, loss = 0.0795\n",
      "epoch : 260, loss = 0.0793\n",
      "epoch : 270, loss = 0.0791\n",
      "epoch : 280, loss = 0.0789\n",
      "epoch : 290, loss = 0.0787\n",
      "epoch : 300, loss = 0.0785\n",
      "epoch : 310, loss = 0.0783\n",
      "epoch : 320, loss = 0.0781\n",
      "epoch : 330, loss = 0.0779\n",
      "epoch : 340, loss = 0.0777\n",
      "epoch : 350, loss = 0.0775\n",
      "epoch : 360, loss = 0.0773\n",
      "epoch : 370, loss = 0.0771\n",
      "epoch : 380, loss = 0.0769\n",
      "epoch : 390, loss = 0.0767\n",
      "epoch : 400, loss = 0.0765\n",
      "epoch : 410, loss = 0.0763\n",
      "epoch : 420, loss = 0.0761\n",
      "epoch : 430, loss = 0.0760\n",
      "epoch : 440, loss = 0.0758\n",
      "epoch : 450, loss = 0.0756\n",
      "epoch : 460, loss = 0.0754\n",
      "epoch : 470, loss = 0.0752\n",
      "epoch : 480, loss = 0.0751\n",
      "epoch : 490, loss = 0.0749\n",
      "epoch : 500, loss = 0.0747\n"
     ]
    }
   ],
   "source": [
    "# training\n",
    "num_epochs = 500\n",
    "for epoch in range(num_epochs):\n",
    "    # prediction : forward pass\n",
    "    y_pred = model(X_train)\n",
    "    \n",
    "    # loss\n",
    "    loss = criterion(y_pred, y_train)\n",
    "    \n",
    "    #Backward prop\n",
    "    loss.backward()\n",
    "    \n",
    "    #updates\n",
    "    optimizer.step()\n",
    "    \n",
    "    # empty weights (zero)\n",
    "    optimizer.zero_grad()\n",
    "    \n",
    "    if (epoch+1)%10 == 0:\n",
    "        print(f'epoch : {epoch + 1}, loss = {loss.item():.4f}')\n",
    "    "
   ]
  },
  {
   "cell_type": "code",
   "execution_count": 17,
   "id": "898f14df",
   "metadata": {},
   "outputs": [
    {
     "name": "stdout",
     "output_type": "stream",
     "text": [
      "accuracy =  0.9561\n"
     ]
    }
   ],
   "source": [
    "with torch.no_grad():\n",
    "    y_predicted = model(X_test)\n",
    "    y_predicted_cls = y_predicted.round()\n",
    "    acc = (y_predicted_cls.eq(y_test).sum()) / float(y_test.shape[0])\n",
    "    print(f'accuracy = {acc : .4f}')"
   ]
  }
 ],
 "metadata": {
  "kernelspec": {
   "display_name": "Python 3 (ipykernel)",
   "language": "python",
   "name": "python3"
  },
  "language_info": {
   "codemirror_mode": {
    "name": "ipython",
    "version": 3
   },
   "file_extension": ".py",
   "mimetype": "text/x-python",
   "name": "python",
   "nbconvert_exporter": "python",
   "pygments_lexer": "ipython3",
   "version": "3.7.11"
  }
 },
 "nbformat": 4,
 "nbformat_minor": 5
}
