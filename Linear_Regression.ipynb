{
 "cells": [
  {
   "cell_type": "code",
   "execution_count": 1,
   "id": "a52ccec0",
   "metadata": {},
   "outputs": [],
   "source": [
    "import torch\n",
    "import torch.nn as nn\n",
    "import numpy as np\n",
    "from sklearn import datasets\n",
    "import matplotlib.pyplot as plt"
   ]
  },
  {
   "cell_type": "code",
   "execution_count": 2,
   "id": "289eed7d",
   "metadata": {},
   "outputs": [],
   "source": [
    "# Pytorch Pipeline\n",
    "\n",
    "# 1) Design MOdel (input,output, forward Pass)\n",
    "# 2) Construct Loss and Optimizer\n",
    "# 3) Training loop\n",
    "#    - forward pass : computer prediction\n",
    "#    - backward pass : gradients\n",
    "#    - update weights"
   ]
  },
  {
   "cell_type": "code",
   "execution_count": 11,
   "id": "6f3ceada",
   "metadata": {},
   "outputs": [
    {
     "name": "stdout",
     "output_type": "stream",
     "text": [
      "epoch : 10, loss = 4314.7388\n",
      "epoch : 20, loss = 3221.2341\n",
      "epoch : 30, loss = 2429.8416\n",
      "epoch : 40, loss = 1856.4932\n",
      "epoch : 50, loss = 1440.7089\n",
      "epoch : 60, loss = 1138.9170\n",
      "epoch : 70, loss = 919.6841\n",
      "epoch : 80, loss = 760.3027\n",
      "epoch : 90, loss = 644.3518\n",
      "epoch : 100, loss = 559.9428\n"
     ]
    },
    {
     "data": {
      "image/png": "[encoded data removed]",
      "text/plain": [
       "<Figure size 432x288 with 1 Axes>"
      ]
     },
     "metadata": {
      "needs_background": "light"
     },
     "output_type": "display_data"
    }
   ],
   "source": [
    "# prepare data\n",
    "x_numpy, y_numpy = datasets.make_regression(n_samples = 100 , n_features = 1, noise =20, random_state =1)\n",
    "X = torch.from_numpy(x_numpy.astype(np.float32))\n",
    "Y = torch.from_numpy(y_numpy.astype(np.float32))\n",
    "\n",
    "Y = Y.view(Y.shape[0],1)\n",
    "n_samples , n_features = X.shape\n",
    "\n",
    "# model\n",
    "input_size = n_features\n",
    "output_size = 1\n",
    "learning_rate = 0.01\n",
    "model = nn.Linear(input_size, output_size)\n",
    "\n",
    "# loss \n",
    "criterion = nn.MSELoss()\n",
    "\n",
    "# optimizer\n",
    "optimizer = torch.optim.SGD(model.parameters(), lr =learning_rate)\n",
    "\n",
    "# Training loop\n",
    "num_epochs = 100\n",
    "for epoch in range(num_epochs):\n",
    "    # forward pass\n",
    "    y_pred = model(X)\n",
    "    loss = criterion(y_pred, Y)\n",
    "    \n",
    "    # backward pass\n",
    "    loss.backward()\n",
    "    \n",
    "    #update\n",
    "    optimizer.step()\n",
    "    \n",
    "    #empty weights\n",
    "    optimizer.zero_grad()\n",
    "    \n",
    "    if (epoch+1) % 10 == 0:\n",
    "        print(f'epoch : {epoch + 1}, loss = {loss.item():.4f}')\n",
    "\n",
    "\n",
    "        \n",
    "        \n",
    " #plot\n",
    "predicted = model(X).detach().numpy()  # this is not required in computational graph\n",
    "plt.plot(x_numpy, y_numpy , 'ro')\n",
    "plt.plot(x_numpy , predicted , 'b')\n",
    "plt.show()"
   ]
  }
 ],
 "metadata": {
  "kernelspec": {
   "display_name": "Python 3 (ipykernel)",
   "language": "python",
   "name": "python3"
  },
  "language_info": {
   "codemirror_mode": {
    "name": "ipython",
    "version": 3
   },
   "file_extension": ".py",
   "mimetype": "text/x-python",
   "name": "python",
   "nbconvert_exporter": "python",
   "pygments_lexer": "ipython3",
   "version": "3.7.11"
  }
 },
 "nbformat": 4,
 "nbformat_minor": 5
}
