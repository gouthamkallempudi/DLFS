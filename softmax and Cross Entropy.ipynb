{
 "cells": [
  {
   "cell_type": "code",
   "execution_count": 1,
   "id": "341616e8",
   "metadata": {},
   "outputs": [],
   "source": [
    "# softmax and cross-entropy loss"
   ]
  },
  {
   "cell_type": "code",
   "execution_count": 2,
   "id": "07b2bb21",
   "metadata": {},
   "outputs": [
    {
     "name": "stdout",
     "output_type": "stream",
     "text": [
      "softmax numpy :  [0.65900114 0.24243297 0.09856589]\n"
     ]
    }
   ],
   "source": [
    "# softmax\n",
    "\n",
    "import torch\n",
    "import torch.nn as nn\n",
    "import numpy as np\n",
    "\n",
    "def softmax(x):\n",
    "    return np.exp(x) / np.sum(np.exp(x) , axis = 0)\n",
    "\n",
    "x = np.array([2.0, 1.0, 0.1])\n",
    "outputs = softmax(x)\n",
    "\n",
    "print('softmax numpy : ', outputs)"
   ]
  },
  {
   "cell_type": "code",
   "execution_count": 4,
   "id": "e4e7fc1d",
   "metadata": {},
   "outputs": [
    {
     "name": "stdout",
     "output_type": "stream",
     "text": [
      "sofmax pytorch :  tensor([0.6590, 0.2424, 0.0986])\n"
     ]
    }
   ],
   "source": [
    "# softmax using pytorch\n",
    "\n",
    "x = torch.tensor([2.0, 1.0, 0.1])\n",
    "outputs = torch.softmax(x, dim = 0)\n",
    "print('sofmax pytorch : ', outputs)"
   ]
  },
  {
   "cell_type": "code",
   "execution_count": 5,
   "id": "8afb6c3c",
   "metadata": {},
   "outputs": [],
   "source": [
    "# cross entropy is a loss which works on one-hot encoded values of actual y and probabilities on predicted y\n"
   ]
  },
  {
   "cell_type": "code",
   "execution_count": 8,
   "id": "de5c1e60",
   "metadata": {},
   "outputs": [
    {
     "name": "stdout",
     "output_type": "stream",
     "text": [
      "loss1 numpy :  0.3567\n",
      "loss2 numpy :  2.3026\n"
     ]
    }
   ],
   "source": [
    "def cross_entropy(actual, predicted):\n",
    "    loss = -np.sum( actual * np.log(predicted))\n",
    "    return loss  # /float(predicted.shape[0])\n",
    "\n",
    "Y = np.array([1,0,0])   # must be one-hot encoding\n",
    "\n",
    "Y_pred_good = np.array([0.7,0.2,0.1])\n",
    "Y_pred_bad  = np.array([0.1,0.3,0.6])\n",
    "\n",
    "l1 = cross_entropy(Y, Y_pred_good)\n",
    "l2 = cross_entropy(Y, Y_pred_bad)\n",
    "\n",
    "print(f'loss1 numpy :  {l1:.4f}')\n",
    "print(f'loss2 numpy :  {l2:.4f}')"
   ]
  },
  {
   "cell_type": "code",
   "execution_count": 9,
   "id": "263b67e8",
   "metadata": {},
   "outputs": [],
   "source": [
    "# using pytorch\n",
    "\n",
    "loss = nn.CrossEntropyLoss()  # it applies both log softmax and negative log likeklihood loss\n",
    "\n",
    "# y should not be one hot, y_preds has raw scores not softmax\n"
   ]
  },
  {
   "cell_type": "code",
   "execution_count": 11,
   "id": "865aa728",
   "metadata": {},
   "outputs": [
    {
     "name": "stdout",
     "output_type": "stream",
     "text": [
      "loss1 numpy :  0.4170\n",
      "loss2 numpy :  1.8406\n"
     ]
    }
   ],
   "source": [
    "Y = torch.tensor([0])  # not one hot\n",
    "# size id no_samples * nclasses  -- lets say 1 sample and 3 classes\n",
    "Y_pred_good = torch.tensor([[2.0,1.0,0.1]])\n",
    "Y_pred_bad  = torch.tensor([[0.5, 2.0, 0.3]])\n",
    "\n",
    "l1 = loss(Y_pred_good, Y)\n",
    "l2 = loss(Y_pred_bad, Y)\n",
    "print(f'loss1 numpy :  {l1.item():.4f}')\n",
    "print(f'loss2 numpy :  {l2.item():.4f}')"
   ]
  },
  {
   "cell_type": "code",
   "execution_count": 13,
   "id": "d1bc2cad",
   "metadata": {},
   "outputs": [
    {
     "name": "stdout",
     "output_type": "stream",
     "text": [
      "tensor([0])\n",
      "tensor([1])\n"
     ]
    }
   ],
   "source": [
    "# to get actual predictions\n",
    "\n",
    "_, predictions = torch.max(Y_pred_good , 1)\n",
    "_, predictions_bad = torch.max(Y_pred_bad , 1)\n",
    "print(predictions)\n",
    "print(predictions_bad)"
   ]
  },
  {
   "cell_type": "code",
   "execution_count": 14,
   "id": "57481699",
   "metadata": {},
   "outputs": [
    {
     "name": "stdout",
     "output_type": "stream",
     "text": [
      "tensor([2, 0, 1])\n"
     ]
    }
   ],
   "source": [
    "# for three samples\n",
    "Y = torch.tensor([2,0,1])  # not one hot\n",
    "Y_pred_good = torch.tensor([[0.1,1.0,2.1], [2.0,1.0,0.1], [0.2,2.0,0.1]])\n",
    "\n",
    "l1 = loss(Y_pred_good, Y)\n",
    "\n",
    "_, predictions = torch.max(Y_pred_good , 1)\n",
    "print(predictions)"
   ]
  },
  {
   "cell_type": "code",
   "execution_count": null,
   "id": "e9b079bd",
   "metadata": {},
   "outputs": [],
   "source": [
    "# Binary Classification Neural Network"
   ]
  },
  {
   "cell_type": "code",
   "execution_count": 19,
   "id": "6cd17b3f",
   "metadata": {},
   "outputs": [],
   "source": [
    "class NeuralNet1(nn.Module):\n",
    "    def __init__(self, input_size, hidden_size):\n",
    "        super(NeuralNet1, self).__init__()\n",
    "        self.linear1 = nn.Linear(input_size , hidden_size)\n",
    "        self.relu = nn.ReLU()\n",
    "        self.linear2 = nn.Linear(hidden_size , 1)\n",
    "        \n",
    "    def forward(self, x):\n",
    "        out = self.linear1(x)\n",
    "        out = self.relu(out)\n",
    "        out = self.linear2(out)\n",
    "        # sigmoid at the end\n",
    "        y_pred = torch.sigmoid(out)\n",
    "        return y_pred\n",
    "        "
   ]
  },
  {
   "cell_type": "code",
   "execution_count": 20,
   "id": "cfc84564",
   "metadata": {},
   "outputs": [],
   "source": [
    "model = NeuralNet1(input_size = 28*28, hidden_size=5)\n",
    "criterion = nn.BCELoss()  "
   ]
  },
  {
   "cell_type": "code",
   "execution_count": 21,
   "id": "b5743532",
   "metadata": {},
   "outputs": [],
   "source": [
    "# Multi class Neural Network"
   ]
  },
  {
   "cell_type": "code",
   "execution_count": 22,
   "id": "2b47cc0d",
   "metadata": {},
   "outputs": [],
   "source": [
    "class NeuralNet2(nn.Module):\n",
    "    def __init__(self, input_size, hidden_size, num_classes):\n",
    "        super(NeuralNet2, self).__init__()\n",
    "        self.linear1 = nn.Linear(input_size , hidden_size)\n",
    "        self.relu = nn.ReLU()\n",
    "        self.linear2 = nn.Linear(hidden_size , num_classes)\n",
    "        \n",
    "    def forward(self, x):\n",
    "        out = self.linear1(x)\n",
    "        out = self.relu(out)\n",
    "        out = self.linear2(out)\n",
    "        # no softmax at the end\n",
    "        return out\n",
    "        "
   ]
  },
  {
   "cell_type": "code",
   "execution_count": 23,
   "id": "a60bc8f1",
   "metadata": {},
   "outputs": [],
   "source": [
    "model = NeuralNet2(input_size = 28*28, hidden_size=5, num_classes=3)\n",
    "criterion = nn.CrossEntropyLoss()  #applies softmax too.."
   ]
  }
 ],
 "metadata": {
  "kernelspec": {
   "display_name": "Python 3 (ipykernel)",
   "language": "python",
   "name": "python3"
  },
  "language_info": {
   "codemirror_mode": {
    "name": "ipython",
    "version": 3
   },
   "file_extension": ".py",
   "mimetype": "text/x-python",
   "name": "python",
   "nbconvert_exporter": "python",
   "pygments_lexer": "ipython3",
   "version": "3.7.11"
  }
 },
 "nbformat": 4,
 "nbformat_minor": 5
}
